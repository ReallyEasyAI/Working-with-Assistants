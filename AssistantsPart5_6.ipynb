{
 "cells": [
  {
   "cell_type": "markdown",
   "metadata": {},
   "source": [
    "# Part 5\n",
    "# Creating and Managing Messages\n",
    "An Assistant represents an entity that can be configured to respond to a user's messages using several parameters like model, instructions, and tools. \n",
    "\n",
    "A Thread represents a conversation between a user and one or many Assistants. You can create a Thread when a user (or your AI application) starts a conversation with your Assistant.\n",
    "\n",
    "The contents of the messages your users or applications create are added as Message objects to the Thread. Messages can contain text, image urls, and files. There is no limit to the number of Messages you can add to Threads — we smartly truncate any context that does not fit into the model's context window.\n",
    "\n",
    "## Creating an Assistant and a Thread Review\n",
    "Let's create an Assistant and Thread to get us set up for success with our Messages. \n",
    "\n",
    "We begin with an Assistant. "
   ]
  },
  {
   "cell_type": "code",
   "execution_count": 1,
   "metadata": {},
   "outputs": [
    {
     "name": "stdout",
     "output_type": "stream",
     "text": [
      "Assistant(id='asst_gDnqDWrQ9gkngdusY7ha8VHf', created_at=1715528696, description=None, instructions='You are a helpful assistant.', metadata={'holds_messages': 'True', 'likes_messages': 'True'}, model='gpt-4-turbo', name='Message Holder', object='assistant', tools=[], response_format='auto', temperature=1.0, tool_resources=ToolResources(code_interpreter=None, file_search=None), top_p=1.0)\n",
      "\n",
      "\n",
      "\n",
      "Message Holder\n",
      "{'holds_messages': 'True', 'likes_messages': 'True'}\n"
     ]
    }
   ],
   "source": [
    "from openai import OpenAI\n",
    "\n",
    "# Create an instance of the OpenAI class\n",
    "# This assumes you have the OPENAI_API_KEY environment variable set\n",
    "client = OpenAI()\n",
    "\n",
    "# Create an assistant that uses code interpreter.\n",
    "assistant = client.beta.assistants.create(\n",
    "    model=\"gpt-4-turbo\",\n",
    "    instructions=\"You are a helpful assistant.\",\n",
    "    name=\"Message Holder\",\n",
    "    metadata={\n",
    "        \"holds_messages\": \"True\",\n",
    "        \"likes_messages\": \"True\",\n",
    "    },\n",
    "    temperature=1,\n",
    "    top_p=1,\n",
    ")\n",
    "\n",
    "# Print the details of the created assistant to check the properties.\n",
    "print(assistant)\n",
    "print(\"\\n\\n\")\n",
    "print(assistant.name)\n",
    "print(assistant.metadata)"
   ]
  },
  {
   "cell_type": "markdown",
   "metadata": {},
   "source": [
    "Now we create an empty thread that will hold our messages. Remember to hang on to that thread ID."
   ]
  },
  {
   "cell_type": "code",
   "execution_count": 2,
   "metadata": {},
   "outputs": [
    {
     "name": "stdout",
     "output_type": "stream",
     "text": [
      "Thread(id='thread_SofVSEqy7mXfIeqVNeYjqqiY', created_at=1715528697, metadata={'user': 'abc123'}, object='thread', tool_resources=ToolResources(code_interpreter=None, file_search=None))\n"
     ]
    }
   ],
   "source": [
    "from openai import OpenAI\n",
    "\n",
    "# Initialize a client instance of the OpenAI API\n",
    "client = OpenAI()\n",
    "\n",
    "# Create a thread using the OpenAI API and store it in a variable\n",
    "# The metadata specifies a user identifier\n",
    "thread_holding_messages = client.beta.threads.create(\n",
    "    metadata={\n",
    "        \"user\": \"abc123\"\n",
    "    }\n",
    ")\n",
    "\n",
    "# Output the result of the thread creation to the console\n",
    "print(thread_holding_messages)\n"
   ]
  },
  {
   "cell_type": "markdown",
   "metadata": {},
   "source": [
    "## Creating Messages\n",
    "To create a message we need to determine which thread to add the message to, the role for the message, and the actual message itself. \n",
    "\n",
    "### Simple Message\n",
    "Here is a simple message with some metadata."
   ]
  },
  {
   "cell_type": "code",
   "execution_count": 3,
   "metadata": {},
   "outputs": [
    {
     "name": "stdout",
     "output_type": "stream",
     "text": [
      "Message(id='msg_aN61xWgri8HUskPHwc5V09Ty', assistant_id=None, attachments=[], completed_at=None, content=[TextContentBlock(text=Text(annotations=[], value='What is a penguin?'), type='text')], created_at=1715528698, incomplete_at=None, incomplete_details=None, metadata={'key': 'value'}, object='thread.message', role='user', run_id=None, status=None, thread_id='thread_SofVSEqy7mXfIeqVNeYjqqiY')\n",
      "\n",
      "\n",
      "msg_aN61xWgri8HUskPHwc5V09Ty\n",
      "[TextContentBlock(text=Text(annotations=[], value='What is a penguin?'), type='text')]\n",
      "What is a penguin?\n",
      "user\n"
     ]
    }
   ],
   "source": [
    "# Create a message in a specific thread using the client's message creation method.\n",
    "message = client.beta.threads.messages.create(\n",
    "    thread_id=thread_holding_messages.id,  # ID of the thread where the message will be posted\n",
    "    role=\"user\",  # Role of the entity posting the message\n",
    "    content=\"What is a penguin?\",  # The textual content of the message\n",
    "    metadata={\"key\": \"value\"}  # Additional data associated with the message in key-value pairs\n",
    ")\n",
    "\n",
    "# Print the entire message object to view its details.\n",
    "print(message)\n",
    "\n",
    "# Print a blank line for better readability of the output.\n",
    "print(\"\\n\")\n",
    "\n",
    "# Print specific attributes of the message.\n",
    "print(message.id)  # The unique identifier of the message\n",
    "print(message.content)  # The content of the message\n",
    "print(message.content[0].text.value)  # Assuming 'content' is a list of text objects, print the value of the first one\n",
    "print(message.role)  # The role associated with the message\n"
   ]
  },
  {
   "cell_type": "markdown",
   "metadata": {},
   "source": [
    "### Message with Vision\n",
    "Now let's create a more complex message that passes in images."
   ]
  },
  {
   "cell_type": "code",
   "execution_count": 4,
   "metadata": {},
   "outputs": [
    {
     "name": "stdout",
     "output_type": "stream",
     "text": [
      "Message(id='msg_xZ5K28yfSPCv7smsfzhVxxHk', assistant_id=None, attachments=[], completed_at=None, content=[TextContentBlock(text=Text(annotations=[], value='What is the difference between these images?'), type='text'), ImageURLContentBlock(image_url=ImageURL(url='https://en.wikipedia.org/wiki/File:Cat_August_2010-4.jpg', detail='auto'), type='image_url'), ImageFileContentBlock(image_file=ImageFile(file_id='file-oa0ood9s42HKr7ktEQrFyBvN', detail='auto'), type='image_file')], created_at=1715528698, incomplete_at=None, incomplete_details=None, metadata={}, object='thread.message', role='user', run_id=None, status=None, thread_id='thread_SofVSEqy7mXfIeqVNeYjqqiY')\n"
     ]
    }
   ],
   "source": [
    "# Create a file in the system by uploading an image, for vision processing purposes.\n",
    "vision_file = client.files.create(\n",
    "    file=open(\"./artifacts/PuppyDog.jpg\", \"rb\"),  # Opens the image file in binary read mode\n",
    "    purpose=\"vision\"  # Indicates that the file's purpose is for vision-related processing\n",
    ")\n",
    "\n",
    "# Create a message that includes both text and images, asking about differences between them.\n",
    "message_vision = client.beta.threads.messages.create(\n",
    "    thread_id=thread_holding_messages.id,  # ID of the thread to post the message in\n",
    "    role=\"user\",  # Role of the poster (e.g., 'user')\n",
    "    content=[  # Content list that includes text and images\n",
    "        {\n",
    "            \"type\": \"text\",\n",
    "            \"text\": \"What is the difference between these images?\"\n",
    "        },\n",
    "        {\n",
    "            \"type\": \"image_url\",\n",
    "            \"image_url\": {\"url\": \"https://en.wikipedia.org/wiki/File:Cat_August_2010-4.jpg\"}\n",
    "        },\n",
    "        {\n",
    "            \"type\": \"image_file\",\n",
    "            \"image_file\": {\"file_id\": vision_file.id}  # References the uploaded file by its ID\n",
    "        },\n",
    "    ],\n",
    ")\n",
    "\n",
    "# Print the message object to output its details.\n",
    "print(message_vision)\n"
   ]
  },
  {
   "cell_type": "markdown",
   "metadata": {},
   "source": [
    "### Message for Tool Use\n",
    "Finally, let's pass in a file for Code Interpreter to use."
   ]
  },
  {
   "cell_type": "code",
   "execution_count": 5,
   "metadata": {},
   "outputs": [
    {
     "name": "stdout",
     "output_type": "stream",
     "text": [
      "Message(id='msg_1i1crE7cAjSoZ0SGA06HWAP9', assistant_id=None, attachments=[Attachment(file_id='file-2ksPeamuUnRZKhhOZfnka2g2', tools=[CodeInterpreterTool(type='code_interpreter')])], completed_at=None, content=[TextContentBlock(text=Text(annotations=[], value='Create three visualizations based on the data in this file.'), type='text')], created_at=1715528699, incomplete_at=None, incomplete_details=None, metadata={}, object='thread.message', role='user', run_id=None, status=None, thread_id='thread_SofVSEqy7mXfIeqVNeYjqqiY')\n"
     ]
    }
   ],
   "source": [
    "# Create a file object by uploading a data file for use with assistant tools.\n",
    "data_file = client.files.create(\n",
    "    file=open(\"./artifacts/penguins_size.csv\", \"rb\"),  # Open the CSV file in binary read mode\n",
    "    purpose=\"assistants\"  # Specify the purpose of the file for assistant tool use\n",
    ")\n",
    "\n",
    "# Create a message that instructs to create visualizations from the attached data file.\n",
    "message_code_interpreter = client.beta.threads.messages.create(\n",
    "    thread_id=thread_holding_messages.id,  # ID of the thread where the message will be posted\n",
    "    role=\"user\",  # Role of the entity posting the message\n",
    "    content=\"Create three visualizations based on the data in this file.\",  # Content detailing what needs to be done with the data\n",
    "    attachments=[  # Attachments that include the file and tools for processing\n",
    "        {\n",
    "            \"file_id\": data_file.id,  # The ID of the uploaded data file\n",
    "            \"tools\": [{\"type\": \"code_interpreter\"}]  # Tools specified to interpret the code\n",
    "        }\n",
    "    ]\n",
    ")\n",
    "\n",
    "# Print the message object to output its details.\n",
    "print(message_code_interpreter)\n"
   ]
  },
  {
   "cell_type": "markdown",
   "metadata": {},
   "source": [
    "# Part 6\n",
    "## Listing Messages\n",
    "Let's see what messages we have in our thread at this point.\n",
    "\n",
    "### Start with a simple list\n",
    "Just list out everything we have so far. Remember that only the first 100 will be listed so if you have more than 100 you will need to use \"after\" to go to the next page."
   ]
  },
  {
   "cell_type": "code",
   "execution_count": 6,
   "metadata": {},
   "outputs": [
    {
     "name": "stdout",
     "output_type": "stream",
     "text": [
      "[Message(id='msg_1i1crE7cAjSoZ0SGA06HWAP9', assistant_id=None, attachments=[Attachment(file_id='file-2ksPeamuUnRZKhhOZfnka2g2', tools=[CodeInterpreterTool(type='code_interpreter')])], completed_at=None, content=[TextContentBlock(text=Text(annotations=[], value='Create three visualizations based on the data in this file.'), type='text')], created_at=1715528699, incomplete_at=None, incomplete_details=None, metadata={}, object='thread.message', role='user', run_id=None, status=None, thread_id='thread_SofVSEqy7mXfIeqVNeYjqqiY'), Message(id='msg_xZ5K28yfSPCv7smsfzhVxxHk', assistant_id=None, attachments=[], completed_at=None, content=[TextContentBlock(text=Text(annotations=[], value='What is the difference between these images?'), type='text'), ImageURLContentBlock(image_url=ImageURL(url='https://en.wikipedia.org/wiki/File:Cat_August_2010-4.jpg', detail='auto'), type='image_url'), ImageFileContentBlock(image_file=ImageFile(file_id='file-oa0ood9s42HKr7ktEQrFyBvN', detail='auto'), type='image_file')], created_at=1715528698, incomplete_at=None, incomplete_details=None, metadata={}, object='thread.message', role='user', run_id=None, status=None, thread_id='thread_SofVSEqy7mXfIeqVNeYjqqiY'), Message(id='msg_aN61xWgri8HUskPHwc5V09Ty', assistant_id=None, attachments=[], completed_at=None, content=[TextContentBlock(text=Text(annotations=[], value='What is a penguin?'), type='text')], created_at=1715528698, incomplete_at=None, incomplete_details=None, metadata={'key': 'value'}, object='thread.message', role='user', run_id=None, status=None, thread_id='thread_SofVSEqy7mXfIeqVNeYjqqiY')]\n",
      "\n",
      "\n",
      "msg_1i1crE7cAjSoZ0SGA06HWAP9\n",
      "user\n",
      "[TextContentBlock(text=Text(annotations=[], value='Create three visualizations based on the data in this file.'), type='text')]\n",
      "\n",
      "\n",
      "msg_xZ5K28yfSPCv7smsfzhVxxHk\n",
      "user\n",
      "[TextContentBlock(text=Text(annotations=[], value='What is the difference between these images?'), type='text'), ImageURLContentBlock(image_url=ImageURL(url='https://en.wikipedia.org/wiki/File:Cat_August_2010-4.jpg', detail='auto'), type='image_url'), ImageFileContentBlock(image_file=ImageFile(file_id='file-oa0ood9s42HKr7ktEQrFyBvN', detail='auto'), type='image_file')]\n",
      "\n",
      "\n",
      "msg_aN61xWgri8HUskPHwc5V09Ty\n",
      "user\n",
      "[TextContentBlock(text=Text(annotations=[], value='What is a penguin?'), type='text')]\n",
      "\n",
      "\n",
      "Total number of messages: 3\n"
     ]
    }
   ],
   "source": [
    "from openai import OpenAI\n",
    "\n",
    "# Initialize the client using the OpenAI library.\n",
    "client = OpenAI()\n",
    "\n",
    "# Retrieve a list of messages from a specific thread using its ID.\n",
    "thread_messages = client.beta.threads.messages.list(thread_holding_messages.id)\n",
    "print(thread_messages.data)  # Print the raw data of messages\n",
    "print(\"\\n\")  # Print a newline for better readability of output\n",
    "\n",
    "# Initialize a counter to keep track of the number of messages.\n",
    "message_count = 0\n",
    "\n",
    "# Iterate over each message in the list, printing details and counting them.\n",
    "for message in thread_messages.data:\n",
    "    print(message.id)  # Print the unique identifier of each message\n",
    "    print(message.role)  # Print the role of the message sender\n",
    "    print(message.content)  # Print the content of the message\n",
    "    print(\"\\n\")  # Print a newline for separation between messages\n",
    "    message_count += 1  # Increment the message count\n",
    "\n",
    "# Print the total number of messages processed.\n",
    "print(f\"Total number of messages: {message_count}\")\n"
   ]
  },
  {
   "cell_type": "markdown",
   "metadata": {},
   "source": [
    "### Limiting and Sorting the Messages\n",
    "Now let's show the two most recent messages using \"limit\" and \"order\"."
   ]
  },
  {
   "cell_type": "code",
   "execution_count": 7,
   "metadata": {},
   "outputs": [
    {
     "name": "stdout",
     "output_type": "stream",
     "text": [
      "[Message(id='msg_1i1crE7cAjSoZ0SGA06HWAP9', assistant_id=None, attachments=[Attachment(file_id='file-2ksPeamuUnRZKhhOZfnka2g2', tools=[CodeInterpreterTool(type='code_interpreter')])], completed_at=None, content=[TextContentBlock(text=Text(annotations=[], value='Create three visualizations based on the data in this file.'), type='text')], created_at=1715528699, incomplete_at=None, incomplete_details=None, metadata={}, object='thread.message', role='user', run_id=None, status=None, thread_id='thread_SofVSEqy7mXfIeqVNeYjqqiY'), Message(id='msg_xZ5K28yfSPCv7smsfzhVxxHk', assistant_id=None, attachments=[], completed_at=None, content=[TextContentBlock(text=Text(annotations=[], value='What is the difference between these images?'), type='text'), ImageURLContentBlock(image_url=ImageURL(url='https://en.wikipedia.org/wiki/File:Cat_August_2010-4.jpg', detail='auto'), type='image_url'), ImageFileContentBlock(image_file=ImageFile(file_id='file-oa0ood9s42HKr7ktEQrFyBvN', detail='auto'), type='image_file')], created_at=1715528698, incomplete_at=None, incomplete_details=None, metadata={}, object='thread.message', role='user', run_id=None, status=None, thread_id='thread_SofVSEqy7mXfIeqVNeYjqqiY')]\n",
      "\n",
      "\n",
      "msg_1i1crE7cAjSoZ0SGA06HWAP9\n",
      "user\n",
      "[TextContentBlock(text=Text(annotations=[], value='Create three visualizations based on the data in this file.'), type='text')]\n",
      "2024-05-12 05:44:59 CDT\n",
      "\n",
      "\n",
      "msg_xZ5K28yfSPCv7smsfzhVxxHk\n",
      "user\n",
      "[TextContentBlock(text=Text(annotations=[], value='What is the difference between these images?'), type='text'), ImageURLContentBlock(image_url=ImageURL(url='https://en.wikipedia.org/wiki/File:Cat_August_2010-4.jpg', detail='auto'), type='image_url'), ImageFileContentBlock(image_file=ImageFile(file_id='file-oa0ood9s42HKr7ktEQrFyBvN', detail='auto'), type='image_file')]\n",
      "2024-05-12 05:44:58 CDT\n",
      "\n",
      "\n",
      "Total number of messages: 2\n"
     ]
    }
   ],
   "source": [
    "import datetime\n",
    "import pytz\n",
    "\n",
    "from openai import OpenAI\n",
    "\n",
    "# Initialize the client using the OpenAI library.\n",
    "client = OpenAI()\n",
    "\n",
    "# Retrieve a list of messages from a specific thread using its ID.\n",
    "thread_messages = client.beta.threads.messages.list(\n",
    "    thread_id=thread_holding_messages.id,\n",
    "    limit=2,  # Limit the number of messages retrieved to 2\n",
    "    order=\"desc\",  # Order the messages in descending order (most recent first)\n",
    ")\n",
    "print(thread_messages.data)  # Print the raw data of messages\n",
    "print(\"\\n\")  # Print a newline for better readability of output\n",
    "\n",
    "# Initialize a counter to keep track of the number of messages.\n",
    "message_count = 0\n",
    "\n",
    "# Iterate over each message in the list, printing details and counting them.\n",
    "for message in thread_messages.data:\n",
    "    print(message.id)  # Print the unique identifier of each message\n",
    "    print(message.role)  # Print the role of the message sender\n",
    "    print(message.content)  # Print the content of the message\n",
    "\n",
    "    # grab the created date/time in unix format \n",
    "    # and convert it to a human readable format\n",
    "    unix_time = message.created_at\n",
    "\n",
    "    # Create a timezone object for Central Time\n",
    "    central_timezone = pytz.timezone('America/Chicago')\n",
    "\n",
    "    # Convert Unix time to a datetime object in UTC\n",
    "    utc_date = datetime.datetime.fromtimestamp(unix_time)\n",
    "\n",
    "    # Localize the UTC datetime object to Central Time\n",
    "    central_date = utc_date.replace(tzinfo=pytz.utc).astimezone(central_timezone)\n",
    "\n",
    "    # Format the datetime object to a readable string\n",
    "    formatted_date = central_date.strftime('%Y-%m-%d %I:%M:%S %Z')\n",
    "\n",
    "    print(formatted_date) # Print the formatted date and time\n",
    "\n",
    "    print(\"\\n\")  # Print a newline for separation between messages\n",
    "\n",
    "    message_count += 1  # Increment the message count\n",
    "\n",
    "# Print the total number of messages processed.\n",
    "print(f\"Total number of messages: {message_count}\")"
   ]
  },
  {
   "cell_type": "markdown",
   "metadata": {},
   "source": [
    "### Pagination with Messages\n",
    "Let's see what forward pagination looks like with the \"after\" method."
   ]
  },
  {
   "cell_type": "code",
   "execution_count": 8,
   "metadata": {},
   "outputs": [
    {
     "name": "stdout",
     "output_type": "stream",
     "text": [
      "msg_1i1crE7cAjSoZ0SGA06HWAP9\n",
      "user\n",
      "[TextContentBlock(text=Text(annotations=[], value='Create three visualizations based on the data in this file.'), type='text')]\n",
      "\n",
      "\n",
      "msg_xZ5K28yfSPCv7smsfzhVxxHk\n",
      "user\n",
      "[TextContentBlock(text=Text(annotations=[], value='What is the difference between these images?'), type='text'), ImageURLContentBlock(image_url=ImageURL(url='https://en.wikipedia.org/wiki/File:Cat_August_2010-4.jpg', detail='auto'), type='image_url'), ImageFileContentBlock(image_file=ImageFile(file_id='file-oa0ood9s42HKr7ktEQrFyBvN', detail='auto'), type='image_file')]\n",
      "\n",
      "\n",
      "=== END OF PAGE ===\n",
      "\n",
      "msg_aN61xWgri8HUskPHwc5V09Ty\n",
      "user\n",
      "[TextContentBlock(text=Text(annotations=[], value='What is a penguin?'), type='text')]\n",
      "\n",
      "\n",
      "=== END OF PAGE ===\n",
      "\n"
     ]
    }
   ],
   "source": [
    "# Import the OpenAI library\n",
    "from openai import OpenAI\n",
    "\n",
    "# Create an OpenAI client\n",
    "client = OpenAI()\n",
    "\n",
    "# Initialize the 'after_id' variable to track pagination\n",
    "after_id = None\n",
    "\n",
    "# Loop to fetch all pages of messages until no more data is available\n",
    "while True:\n",
    "    # Retrieve a list of up to 2 messages, sorted from newest to oldest,\n",
    "    # starting after the previously retrieved message (if any)\n",
    "    thread_messages = client.beta.threads.messages.list(\n",
    "        thread_id=thread_holding_messages.id,\n",
    "        limit=2,  # Limit the number of messages retrieved to 2\n",
    "        order=\"desc\",  # Order the messages in descending order (most recent first)\n",
    "        after=after_id  # Include the after_id to fetch messages after the last retrieved ID\n",
    "    )\n",
    "\n",
    "    # Check if the retrieved data is empty, indicating no more messages to fetch\n",
    "    if not thread_messages.data:\n",
    "        break\n",
    "\n",
    "    # Process each message in the current page\n",
    "    for message in thread_messages.data:\n",
    "        print(message.id)  \n",
    "        print(message.role)  \n",
    "        print(message.content)\n",
    "        print(\"\\n\")  \n",
    "\n",
    "    # Update 'after_id' to the ID of the last assistant in the current page\n",
    "    # This will be used to fetch the next page in the subsequent iteration\n",
    "    after_id = thread_messages.data[-1].id\n",
    "\n",
    "    # Print a marker to indicate the end of the current page\n",
    "    print(\"=== END OF PAGE ===\\n\")\n"
   ]
  },
  {
   "cell_type": "markdown",
   "metadata": {},
   "source": [
    "Now let's go backward using the \"before\" method to see pages."
   ]
  },
  {
   "cell_type": "code",
   "execution_count": 11,
   "metadata": {},
   "outputs": [
    {
     "name": "stdout",
     "output_type": "stream",
     "text": [
      "[Message(id='msg_1i1crE7cAjSoZ0SGA06HWAP9', assistant_id=None, attachments=[Attachment(file_id='file-2ksPeamuUnRZKhhOZfnka2g2', tools=[CodeInterpreterTool(type='code_interpreter')])], completed_at=None, content=[TextContentBlock(text=Text(annotations=[], value='Create three visualizations based on the data in this file.'), type='text')], created_at=1715528699, incomplete_at=None, incomplete_details=None, metadata={}, object='thread.message', role='user', run_id=None, status=None, thread_id='thread_SofVSEqy7mXfIeqVNeYjqqiY'), Message(id='msg_xZ5K28yfSPCv7smsfzhVxxHk', assistant_id=None, attachments=[], completed_at=None, content=[TextContentBlock(text=Text(annotations=[], value='What is the difference between these images?'), type='text'), ImageURLContentBlock(image_url=ImageURL(url='https://en.wikipedia.org/wiki/File:Cat_August_2010-4.jpg', detail='auto'), type='image_url'), ImageFileContentBlock(image_file=ImageFile(file_id='file-oa0ood9s42HKr7ktEQrFyBvN', detail='auto'), type='image_file')], created_at=1715528698, incomplete_at=None, incomplete_details=None, metadata={}, object='thread.message', role='user', run_id=None, status=None, thread_id='thread_SofVSEqy7mXfIeqVNeYjqqiY')]\n",
      "\n",
      "\n",
      "msg_1i1crE7cAjSoZ0SGA06HWAP9\n",
      "user\n",
      "[TextContentBlock(text=Text(annotations=[], value='Create three visualizations based on the data in this file.'), type='text')]\n",
      "\n",
      "\n",
      "msg_xZ5K28yfSPCv7smsfzhVxxHk\n",
      "user\n",
      "[TextContentBlock(text=Text(annotations=[], value='What is the difference between these images?'), type='text'), ImageURLContentBlock(image_url=ImageURL(url='https://en.wikipedia.org/wiki/File:Cat_August_2010-4.jpg', detail='auto'), type='image_url'), ImageFileContentBlock(image_file=ImageFile(file_id='file-oa0ood9s42HKr7ktEQrFyBvN', detail='auto'), type='image_file')]\n",
      "\n",
      "\n"
     ]
    }
   ],
   "source": [
    "# Retrieve a list of up to 2 messages, sorted from oldest to newest,\n",
    "# starting before the first message in the last retrieved page (if any)\n",
    "thread_messages = client.beta.threads.messages.list(\n",
    "    thread_id=thread_holding_messages.id,\n",
    "    limit=2,  # Limit the number of messages retrieved to 2\n",
    "    order=\"desc\",  # Order the messages in descending order (most recent first)\n",
    "    before=\"msg_aN61xWgri8HUskPHwc5V09Ty\"  # Include the before_id to fetch messages before the first ID in the last page\n",
    ")\n",
    "\n",
    "print(thread_messages.data)  # Print the raw data of messages\n",
    "print(\"\\n\")  # Print a newline for better readability of output\n",
    "\n",
    "# Process each message in the current page\n",
    "for message in thread_messages.data:\n",
    "    print(message.id)  \n",
    "    print(message.role)  \n",
    "    print(message.content)\n",
    "    print(\"\\n\")  "
   ]
  },
  {
   "cell_type": "markdown",
   "metadata": {},
   "source": [
    "## Retrieving a Message\n",
    "We can always fetch a message if we need to from the thread."
   ]
  },
  {
   "cell_type": "code",
   "execution_count": 12,
   "metadata": {},
   "outputs": [
    {
     "name": "stdout",
     "output_type": "stream",
     "text": [
      "Message(id='msg_xZ5K28yfSPCv7smsfzhVxxHk', assistant_id=None, attachments=[], completed_at=None, content=[TextContentBlock(text=Text(annotations=[], value='What is the difference between these images?'), type='text'), ImageURLContentBlock(image_url=ImageURL(url='https://en.wikipedia.org/wiki/File:Cat_August_2010-4.jpg', detail='auto'), type='image_url'), ImageFileContentBlock(image_file=ImageFile(file_id='file-oa0ood9s42HKr7ktEQrFyBvN', detail='auto'), type='image_file')], created_at=1715528698, incomplete_at=None, incomplete_details=None, metadata={}, object='thread.message', role='user', run_id=None, status=None, thread_id='thread_SofVSEqy7mXfIeqVNeYjqqiY')\n"
     ]
    }
   ],
   "source": [
    "from openai import OpenAI\n",
    "\n",
    "# Initialize the OpenAI client.\n",
    "client = OpenAI()\n",
    "\n",
    "# Retrieve a specific message by its ID from a given thread.\n",
    "fetched_message = client.beta.threads.messages.retrieve(\n",
    "    thread_id=thread_holding_messages.id,  # ID of the thread containing the message\n",
    "    message_id=message.id,  # ID of the message to retrieve\n",
    ")\n",
    "\n",
    "# Print the retrieved message object to see its details.\n",
    "print(fetched_message)\n",
    "\n"
   ]
  },
  {
   "cell_type": "markdown",
   "metadata": {},
   "source": [
    "## Modify Messsages\n",
    "Making changes to messages is easy. Just call the update method."
   ]
  },
  {
   "cell_type": "code",
   "execution_count": 13,
   "metadata": {},
   "outputs": [
    {
     "name": "stdout",
     "output_type": "stream",
     "text": [
      "Before Update: Message(id='msg_xZ5K28yfSPCv7smsfzhVxxHk', assistant_id=None, attachments=[], completed_at=None, content=[TextContentBlock(text=Text(annotations=[], value='What is the difference between these images?'), type='text'), ImageURLContentBlock(image_url=ImageURL(url='https://en.wikipedia.org/wiki/File:Cat_August_2010-4.jpg', detail='auto'), type='image_url'), ImageFileContentBlock(image_file=ImageFile(file_id='file-oa0ood9s42HKr7ktEQrFyBvN', detail='auto'), type='image_file')], created_at=1715528698, incomplete_at=None, incomplete_details=None, metadata={}, object='thread.message', role='user', run_id=None, status=None, thread_id='thread_SofVSEqy7mXfIeqVNeYjqqiY')\n",
      "\n",
      "\n",
      "Message(id='msg_xZ5K28yfSPCv7smsfzhVxxHk', assistant_id=None, attachments=None, completed_at=None, content=[TextContentBlock(text=Text(annotations=[], value='What is the difference between these images?'), type='text'), ImageURLContentBlock(image_url=ImageURL(url='https://en.wikipedia.org/wiki/File:Cat_August_2010-4.jpg', detail='auto'), type='image_url'), ImageFileContentBlock(image_file=ImageFile(file_id='file-oa0ood9s42HKr7ktEQrFyBvN', detail='auto'), type='image_file')], created_at=1715528698, incomplete_at=None, incomplete_details=None, metadata={'modified': 'true', 'user': 'abc123'}, object='thread.message', role='user', run_id=None, status=None, thread_id='thread_SofVSEqy7mXfIeqVNeYjqqiY', file_ids=[])\n"
     ]
    }
   ],
   "source": [
    "from openai import OpenAI\n",
    "\n",
    "# Initialize the OpenAI client.\n",
    "client = OpenAI()\n",
    "\n",
    "# show the before data\n",
    "print(f\"Before Update: {message}\")\n",
    "print(\"\\n\")\n",
    "\n",
    "# Update a specific message by its ID within a given thread.\n",
    "modified_message = client.beta.threads.messages.update(\n",
    "    thread_id=thread_holding_messages.id,  # ID of the thread containing the message\n",
    "    message_id=message.id,  # ID of the message to update\n",
    "    metadata={  # Metadata to add or update for the message\n",
    "        \"modified\": \"true\",\n",
    "        \"user\": \"abc123\",\n",
    "    },\n",
    ")\n",
    "\n",
    "# Print the modified message object to view its updated details.\n",
    "print(modified_message)\n",
    "\n"
   ]
  },
  {
   "cell_type": "markdown",
   "metadata": {},
   "source": [
    "## Delete Messages\n",
    "Finally, let's clean up after ourselves and delete any messages we don't need any more."
   ]
  },
  {
   "cell_type": "code",
   "execution_count": 14,
   "metadata": {},
   "outputs": [],
   "source": [
    "# You may need to upgrade to the latest version of the OpenAI library to use the delete method.\n",
    "# If you encounter an error, consider upgrading the library using 'pip install openai --upgrade'\n",
    "# !pip install openai --upgrade"
   ]
  },
  {
   "cell_type": "code",
   "execution_count": 15,
   "metadata": {},
   "outputs": [
    {
     "name": "stdout",
     "output_type": "stream",
     "text": [
      "Message deleted successfully: MessageDeleted(id='msg_xZ5K28yfSPCv7smsfzhVxxHk', deleted=True, object='thread.message.deleted')\n"
     ]
    }
   ],
   "source": [
    "from openai import OpenAI\n",
    "\n",
    "\n",
    "# Initialize the OpenAI client.\n",
    "client = OpenAI()\n",
    "\n",
    "try:\n",
    "    # Delete a specific message by its ID within a given thread.\n",
    "    deleted_message = client.beta.threads.messages.delete(\n",
    "        thread_id=thread_holding_messages.id,\n",
    "        message_id=message.id\n",
    "    )\n",
    "\n",
    "    # Print the result of the delete operation to verify its success.\n",
    "    print(\"Message deleted successfully:\", deleted_message)\n",
    "\n",
    "except NotFoundError as e:\n",
    "    # Handle the case where the message does not exist\n",
    "    print(\"The message could not be found and thus not deleted. Error:\", str(e))\n",
    "\n"
   ]
  },
  {
   "cell_type": "markdown",
   "metadata": {},
   "source": [
    "### Cleanup Code\n",
    "Uncomment the code below to blow away all your messages in our thread if you want to play around with them some more"
   ]
  },
  {
   "cell_type": "code",
   "execution_count": 16,
   "metadata": {},
   "outputs": [],
   "source": [
    "from openai import OpenAI\n",
    "\n",
    "# Initialize the OpenAI client.\n",
    "client = OpenAI()\n",
    "\n",
    "# Assume 'thread_id' is the ID of the thread from which you want to delete all messages\n",
    "thread_id = thread_holding_messages.id\n",
    "\n",
    "# First, retrieve all messages from the thread\n",
    "try:\n",
    "    messages = client.beta.threads.messages.list(thread_id=thread_id)\n",
    "    message_ids = [message.id for message in messages]\n",
    "except Exception as e:\n",
    "    print(f\"Failed to retrieve messages: {e}\")\n",
    "    messages = []\n",
    "\n",
    "# Loop through each message ID and attempt deletion\n",
    "# for message_id in message_ids:\n",
    "#     try:\n",
    "#         # Attempt to fetch message to check existence\n",
    "#         message = client.beta.threads.messages.retrieve(message_id=message_id, thread_id=thread_id)\n",
    "#         # If message exists, proceed with deletion\n",
    "#         deleted_message = client.beta.threads.messages.delete(message_id=message_id, thread_id=thread_id)\n",
    "#         print(f\"Deleted message ID {message_id}: {deleted_message}\")\n",
    "#     except Exception as e:\n",
    "#         if \"NotFoundError\" in str(e):\n",
    "#             print(f\"Message ID {message_id} not found or already deleted.\")\n",
    "#         else:\n",
    "#             print(f\"Failed to delete message ID {message_id}: {e}\")\n"
   ]
  }
 ],
 "metadata": {
  "kernelspec": {
   "display_name": "NormalProgramming",
   "language": "python",
   "name": "python3"
  },
  "language_info": {
   "codemirror_mode": {
    "name": "ipython",
    "version": 3
   },
   "file_extension": ".py",
   "mimetype": "text/x-python",
   "name": "python",
   "nbconvert_exporter": "python",
   "pygments_lexer": "ipython3",
   "version": "3.11.4"
  }
 },
 "nbformat": 4,
 "nbformat_minor": 2
}
