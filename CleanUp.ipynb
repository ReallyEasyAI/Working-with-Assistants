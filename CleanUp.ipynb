{
 "cells": [
  {
   "cell_type": "markdown",
   "metadata": {},
   "source": [
    "**Cleaning Up Our Assistants**\n",
    "\n",
    "Uncomment and run the below code if you want to delete ALL your Assistants. \n",
    "\n",
    "WARNING: THIS WILL DELETE ALL YOUR ASSISTANTS\n",
    "\n",
    "SERIOUSLY\n",
    "\n",
    "NOT KIDDING\n",
    "\n",
    "GONE!\n",
    "\n",
    "YOU BETTER BE SURE"
   ]
  },
  {
   "cell_type": "code",
   "execution_count": null,
   "metadata": {},
   "outputs": [],
   "source": [
    "# Import the OpenAI library to use its API functionalities\n",
    "from openai import OpenAI"
   ]
  },
  {
   "cell_type": "code",
   "execution_count": null,
   "metadata": {},
   "outputs": [],
   "source": [
    "# Create an instance of the OpenAI class for API interactions\n",
    "client = OpenAI()"
   ]
  },
  {
   "cell_type": "code",
   "execution_count": null,
   "metadata": {},
   "outputs": [],
   "source": [
    "# Let's get a list of Assistants so we can be sure we want to blow them away\n",
    "\n",
    "# List all the assistants available under the current OpenAI account\n",
    "my_assistants = client.beta.assistants.list()\n",
    "\n",
    "# Print the number of assistants retrieved\n",
    "print(\"Number of Assistants: \" + str(len(my_assistants.data)))\n",
    "print(\"\\n\")\n",
    "\n",
    "# Iterate through each assistant object in the data list\n",
    "for assistant in my_assistants.data:\n",
    "    # Print the unique identifier of the assistant\n",
    "    print(assistant.id)\n",
    "    # Print the name of the assistant\n",
    "    print(assistant.name)\n",
    "    # Print a newline for better readability between entries\n",
    "    print(\"\\n\")"
   ]
  },
  {
   "cell_type": "code",
   "execution_count": null,
   "metadata": {},
   "outputs": [],
   "source": [
    "# This code WILL DELETE up to 100 ASSISTANTS at a time if you uncomment it AND run it\n",
    "# while True:\n",
    "#     # List all assistants\n",
    "#     my_assistants = client.beta.assistants.list(limit=100)\n",
    "#     if not my_assistants.data:\n",
    "#         print(\"No more assistants to delete.\")\n",
    "#         break\n",
    "\n",
    "#     # Delete each assistant in the list\n",
    "#     for assistant in my_assistants.data:\n",
    "#         client.beta.assistants.delete(assistant.id)\n",
    "#         print(f\"Deleted assistant: {assistant.name} (ID: {assistant.id})\")"
   ]
  },
  {
   "cell_type": "code",
   "execution_count": null,
   "metadata": {},
   "outputs": [],
   "source": [
    "# List all the assistants available under the current OpenAI account\n",
    "my_assistants = client.beta.assistants.list()\n",
    "\n",
    "# Print the number of assistants retrieved\n",
    "print(\"Number of Assistants: \" + str(len(my_assistants.data)))\n",
    "print(\"\\n\")\n",
    "\n",
    "# Iterate through each assistant object in the data list\n",
    "for assistant in my_assistants.data:\n",
    "    # Print the unique identifier of the assistant\n",
    "    print(assistant.id)\n",
    "    # Print the name of the assistant\n",
    "    print(assistant.name)\n",
    "    # Print a newline for better readability between entries\n",
    "    print(\"\\n\")"
   ]
  },
  {
   "cell_type": "markdown",
   "metadata": {},
   "source": [
    "**Cleaning Up Our Files**\n",
    "\n",
    "Uncomment and run the below code if you want to delete ALL your Files from the OpenAI API Storage \n",
    "\n",
    "WARNING: THIS WILL DELETE ALL YOUR FILES\n",
    "\n",
    "SERIOUSLY\n",
    "\n",
    "NOT KIDDING\n",
    "\n",
    "GONE!\n",
    "\n",
    "YOU BETTER BE SURE"
   ]
  },
  {
   "cell_type": "code",
   "execution_count": null,
   "metadata": {},
   "outputs": [],
   "source": [
    "# List all the files available under the current OpenAI account\n",
    "my_files = client.files.list()\n",
    "\n",
    "# Print the number of files retrieved\n",
    "print(\"Number of Files: \" + str(len(my_files.data)))\n",
    "print(\"\\n\")\n",
    "\n",
    "# Iterate through each file object in the data list\n",
    "for file in my_files.data:\n",
    "    # Print the unique identifier of the file\n",
    "    print(file.id)\n",
    "    # Print the name of the file\n",
    "    print(file.filename)\n",
    "    # Print a newline for better readability between entries\n",
    "    print(\"\\n\")\n"
   ]
  },
  {
   "cell_type": "code",
   "execution_count": null,
   "metadata": {},
   "outputs": [],
   "source": [
    "# This code WILL DELETE ALL FILES if you uncomment it AND run it\n",
    "# for file in my_files.data:\n",
    "#     client.files.delete(file.id)\n",
    "#     print(\"Deleted file id: \" + file.id)\n",
    "#     print(\"Deleted file name: \" + file.filename)\n",
    "#     print(\"\\n\")"
   ]
  },
  {
   "cell_type": "code",
   "execution_count": null,
   "metadata": {},
   "outputs": [],
   "source": [
    "# List all the files again to make sure they are gone\n",
    "my_files = client.files.list()\n",
    "\n",
    "# Print the number of files retrieved\n",
    "print(\"Number of Files: \" + str(len(my_files.data)))\n",
    "print(\"\\n\")\n",
    "\n",
    "# Iterate through each file object in the data list\n",
    "for file in my_files.data:\n",
    "    # Print the unique identifier of the file\n",
    "    print(file.id)\n",
    "    # Print the name of the file\n",
    "    print(file.filename)\n",
    "    # Print a newline for better readability between entries\n",
    "    print(\"\\n\")"
   ]
  },
  {
   "cell_type": "markdown",
   "metadata": {},
   "source": [
    "**Cleaning Up Our Vector Stores**\n",
    "\n",
    "Uncomment and run the below code if you want to delete ALL your Vector Stores from the OpenAI API Storage \n",
    "\n",
    "WARNING: THIS WILL DELETE ALL YOUR VECTOR STORES\n",
    "\n",
    "SERIOUSLY\n",
    "\n",
    "NOT KIDDING\n",
    "\n",
    "GONE!\n",
    "\n",
    "YOU BETTER BE SURE"
   ]
  },
  {
   "cell_type": "code",
   "execution_count": null,
   "metadata": {},
   "outputs": [],
   "source": [
    "# List all the vector stores available under the current OpenAI account\n",
    "my_vector_stores = client.beta.vector_stores.list()\n",
    "\n",
    "# Print the number of vector stores retrieved\n",
    "print(\"Number of Vector Stores: \" + str(len(my_vector_stores.data)))\n",
    "print(\"\\n\")\n",
    "\n",
    "# Iterate through each vector stores object in the data list\n",
    "for vector_store in my_vector_stores.data:\n",
    "    # Print the unique identifier of the vector stores\n",
    "    print(vector_store.id)\n",
    "    # Print the name of the vector stores\n",
    "    print(vector_store.name)\n",
    "    # Print a newline for better readability between entries\n",
    "    print(\"\\n\")"
   ]
  },
  {
   "cell_type": "code",
   "execution_count": null,
   "metadata": {},
   "outputs": [],
   "source": [
    "# This code WILL DELETE ALL VECTOR STORES if you uncomment it AND run it\n",
    "# for vector_store in my_vector_stores.data:\n",
    "#     client.beta.vector_stores.delete(vector_store.id)\n",
    "#     print(\"Deleted vector store id: \" + vector_store.id)\n",
    "#     print(\"Deleted vector store name: \" + str(vector_store.name))\n",
    "#     print(\"\\n\")"
   ]
  },
  {
   "cell_type": "code",
   "execution_count": null,
   "metadata": {},
   "outputs": [],
   "source": [
    "# List all the vector stores again to make sure they are gone\n",
    "my_vector_stores = client.beta.vector_stores.list()\n",
    "\n",
    "# Print the number of vector stores retrieved\n",
    "print(\"Number of Vector Stores: \" + str(len(my_vector_stores.data)))\n",
    "print(\"\\n\")\n",
    "\n",
    "# Iterate through each vector stores object in the data list\n",
    "for vector_store in my_vector_stores.data:\n",
    "    # Print the unique identifier of the vector stores\n",
    "    print(vector_store.id)\n",
    "    # Print the name of the vector stores\n",
    "    print(vector_store.name)\n",
    "    # Print a newline for better readability between entries\n",
    "    print(\"\\n\")"
   ]
  }
 ],
 "metadata": {
  "kernelspec": {
   "display_name": "NormalProgramming",
   "language": "python",
   "name": "python3"
  },
  "language_info": {
   "codemirror_mode": {
    "name": "ipython",
    "version": 3
   },
   "file_extension": ".py",
   "mimetype": "text/x-python",
   "name": "python",
   "nbconvert_exporter": "python",
   "pygments_lexer": "ipython3",
   "version": "3.11.4"
  }
 },
 "nbformat": 4,
 "nbformat_minor": 2
}
