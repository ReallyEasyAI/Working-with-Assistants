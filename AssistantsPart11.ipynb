{
 "cells": [
  {
   "cell_type": "markdown",
   "metadata": {},
   "source": [
    "# Part 11\n",
    "\n",
    "## Assistant, Thread, Message, and Run Review\n",
    "Let's make some objects, again!\n",
    "\n",
    "Univeral code for the entire notebook"
   ]
  },
  {
   "cell_type": "code",
   "execution_count": 18,
   "metadata": {},
   "outputs": [],
   "source": [
    "# Import necessary libraries\n",
    "from openai import OpenAI  # Used for interacting with OpenAI's API\n",
    "from typing_extensions import override  # Used for overriding methods in subclasses\n",
    "from openai import AssistantEventHandler  # Used for handling events related to OpenAI assistants\n",
    "\n",
    "# Additional libraries for time and date manipulation\n",
    "import time\n",
    "import pytz\n",
    "import datetime\n"
   ]
  },
  {
   "cell_type": "code",
   "execution_count": 19,
   "metadata": {},
   "outputs": [],
   "source": [
    "# Create an instance of the OpenAI class to interact with the API.\n",
    "# This assumes you have set the OPENAI_API_KEY environment variable.\n",
    "client = OpenAI() "
   ]
  },
  {
   "cell_type": "markdown",
   "metadata": {},
   "source": [
    "### Creating an Assistant\n",
    "First, let's make an Assistant we can use to communicate with our run."
   ]
  },
  {
   "cell_type": "code",
   "execution_count": 20,
   "metadata": {},
   "outputs": [
    {
     "name": "stdout",
     "output_type": "stream",
     "text": [
      "Assistant(id='asst_yTqvGZiGrntdsm8J6WDC7xa8', created_at=1715941552, description=None, instructions='You are a helpful assistant.', metadata={'holds_threads': 'True', 'likes_threads': 'True', 'holds_messages': 'True', 'likes_messages': 'True', 'run_step_friendly': 'True'}, model='gpt-4o', name='Run Step Friendly Assistant', object='assistant', tools=[], response_format='auto', temperature=1.0, tool_resources=ToolResources(code_interpreter=None, file_search=None), top_p=1.0)\n",
      "\n",
      "\n",
      "\n",
      "Run Step Friendly Assistant\n",
      "{'holds_threads': 'True', 'likes_threads': 'True', 'holds_messages': 'True', 'likes_messages': 'True', 'run_step_friendly': 'True'}\n"
     ]
    }
   ],
   "source": [
    "\n",
    "# Create an assistant using the client library.\n",
    "assistant = client.beta.assistants.create(\n",
    "    model=\"gpt-4o\",  # Specify the model to be used.\n",
    "    instructions=\"You are a helpful assistant.\",  # Set the instructions for the assistant.\n",
    "    name=\"Run Step Friendly Assistant\",  # Give the assistant a name.\n",
    "    metadata={  # Add metadata about the assistant's capabilities.\n",
    "        \"holds_threads\": \"True\",\n",
    "        \"likes_threads\": \"True\",\n",
    "        \"holds_messages\": \"True\",\n",
    "        \"likes_messages\": \"True\",\n",
    "        \"run_step_friendly\": \"True\",\n",
    "    },\n",
    "    temperature=1,  # Set the temperature for response variability.\n",
    "    top_p=1,  # Set the top_p for nucleus sampling.\n",
    ")\n",
    "\n",
    "# Print the details of the created assistant to check its properties.\n",
    "print(assistant)  # Print the full assistant object.\n",
    "print(\"\\n\\n\")\n",
    "print(assistant.name)  # Print the name of the assistant.\n",
    "print(assistant.metadata)  # Print the metadata of the assistant.\n"
   ]
  },
  {
   "cell_type": "markdown",
   "metadata": {},
   "source": [
    "### Creating a Thread\n",
    "Now, let's create a Thread that can be used to hold our messages."
   ]
  },
  {
   "cell_type": "code",
   "execution_count": 21,
   "metadata": {},
   "outputs": [
    {
     "name": "stdout",
     "output_type": "stream",
     "text": [
      "Thread(id='thread_8lV62hFNMb0jlWQS4P2ovDir', created_at=1715941552, metadata={'user': 'abc123'}, object='thread', tool_resources=ToolResources(code_interpreter=None, file_search=None))\n"
     ]
    }
   ],
   "source": [
    "# Create a thread using the OpenAI API and store it in a variable.\n",
    "# The metadata specifies a user identifier.\n",
    "thread = client.beta.threads.create(\n",
    "    metadata={\n",
    "        \"user\": \"abc123\"\n",
    "    }\n",
    ")\n",
    "\n",
    "# Output the result of the thread creation to the console.\n",
    "print(thread)"
   ]
  },
  {
   "cell_type": "markdown",
   "metadata": {},
   "source": [
    "### Creating a Message\n",
    "Finally, let's create a Message that we can go into the Thread for use later."
   ]
  },
  {
   "cell_type": "code",
   "execution_count": 22,
   "metadata": {},
   "outputs": [
    {
     "name": "stdout",
     "output_type": "stream",
     "text": [
      "Message(id='msg_7rkgOVJm5vvUtEm7eJKN9P6F', assistant_id=None, attachments=[], completed_at=None, content=[TextContentBlock(text=Text(annotations=[], value='Tell me what a penguin is in 100 words or less.'), type='text')], created_at=1715941553, incomplete_at=None, incomplete_details=None, metadata={'key': 'value'}, object='thread.message', role='user', run_id=None, status=None, thread_id='thread_8lV62hFNMb0jlWQS4P2ovDir')\n",
      "\n",
      "\n",
      "msg_7rkgOVJm5vvUtEm7eJKN9P6F\n",
      "[TextContentBlock(text=Text(annotations=[], value='Tell me what a penguin is in 100 words or less.'), type='text')]\n",
      "Tell me what a penguin is in 100 words or less.\n",
      "user\n"
     ]
    }
   ],
   "source": [
    "# Create a message in a specific thread using the client's message creation method.\n",
    "message = client.beta.threads.messages.create(\n",
    "    thread_id=thread.id,  # ID of the thread where the message will be posted\n",
    "    role=\"user\",  # Role of the entity posting the message\n",
    "    content=\"Tell me what a penguin is in 100 words or less.\",  # The textual content of the message\n",
    "    metadata={\"key\": \"value\"}  # Additional data associated with the message in key-value pairs\n",
    ")\n",
    "\n",
    "# Print the entire message object to view its details.\n",
    "print(message)\n",
    "\n",
    "# Print a blank line for better readability of the output.\n",
    "print(\"\\n\")\n",
    "\n",
    "# Print specific attributes of the message.\n",
    "print(message.id)  # The unique identifier of the message\n",
    "print(message.content)  # The content of the message\n",
    "print(message.content[0].text.value)  # Assuming 'content' is a list of text objects, print the value of the first one\n",
    "print(message.role)  # The role associated with the message"
   ]
  },
  {
   "cell_type": "markdown",
   "metadata": {},
   "source": [
    "### Creating Streaming Run\n",
    "Let's create a run and get some output!"
   ]
  },
  {
   "cell_type": "code",
   "execution_count": 23,
   "metadata": {},
   "outputs": [],
   "source": [
    "class EventHandler(AssistantEventHandler):\n",
    "    \"\"\"Custom event handler for processing assistant events.\"\"\"\n",
    "\n",
    "    def __init__(self):\n",
    "        super().__init__()\n",
    "        self.results = []  # Initialize the results list\n",
    "\n",
    "    @override\n",
    "    def on_text_created(self, text) -> None:\n",
    "        \"\"\"Handle the event when text is first created.\"\"\"\n",
    "        print(\"\\nassistant text > \", end=\"\", flush=True)\n",
    "        self.results.append(text)\n",
    "\n",
    "    @override\n",
    "    def on_text_delta(self, delta, snapshot):\n",
    "        \"\"\"Handle the event when there is a text delta (partial text).\"\"\"\n",
    "        print(delta.value, end=\"\", flush=True)\n",
    "        self.results.append(delta.value)\n",
    "\n",
    "    def on_tool_call_created(self, tool_call):\n",
    "        \"\"\"Handle the event when a tool call is created.\"\"\"\n",
    "        print(f\"\\nassistant tool > {tool_call.type}\\n\", flush=True)\n",
    "\n",
    "    def on_tool_call_delta(self, delta, snapshot):\n",
    "        \"\"\"Handle the event when there is a delta (update) in a tool call.\"\"\"\n",
    "        if delta.type == 'code_interpreter':\n",
    "            if delta.code_interpreter.input:\n",
    "                print(delta.code_interpreter.input, end=\"\", flush=True)\n",
    "                self.results.append(delta.code_interpreter.input)\n",
    "            if delta.code_interpreter.outputs:\n",
    "                print(\"\\n\\noutput >\", flush=True)\n",
    "            for output in delta.code_interpreter.outputs:\n",
    "                if output.type == \"logs\":\n",
    "                    print(f\"\\n{output.logs}\", flush=True)\n",
    "                    self.results.append(output.logs)\n"
   ]
  },
  {
   "cell_type": "code",
   "execution_count": 24,
   "metadata": {},
   "outputs": [
    {
     "name": "stdout",
     "output_type": "stream",
     "text": [
      "\n",
      "assistant text > A penguin is a flightless bird primarily found in the Southern Hemisphere, particularly in Antarctica. Known for their distinctive black and white plumage, penguins are excellent swimmers, using their flipper-like wings to navigate underwater. They feed mainly on fish, squid, and krill. Penguins are social animals, often forming large colonies for breeding and protection. Their unique adaptations, such as a layer of blubber and tightly packed feathers, provide insulation against the cold. There are around 18 species of penguins, varying in size and habitat preferences.\n",
      "\n",
      "\n",
      "Collected results: [Text(annotations=[], value='A'), 'A', ' peng', 'uin', ' is', ' a', ' flight', 'less', ' bird', ' primarily', ' found', ' in', ' the', ' Southern', ' Hemisphere', ',', ' particularly', ' in', ' Antarctica', '.', ' Known', ' for', ' their', ' distinctive', ' black', ' and', ' white', ' plum', 'age', ',', ' peng', 'uins', ' are', ' excellent', ' swimmers', ',', ' using', ' their', ' fl', 'ipper', '-like', ' wings', ' to', ' navigate', ' underwater', '.', ' They', ' feed', ' mainly', ' on', ' fish', ',', ' squid', ',', ' and', ' kr', 'ill', '.', ' Penguins', ' are', ' social', ' animals', ',', ' often', ' forming', ' large', ' colonies', ' for', ' breeding', ' and', ' protection', '.', ' Their', ' unique', ' adaptations', ',', ' such', ' as', ' a', ' layer', ' of', ' bl', 'ubber', ' and', ' tightly', ' packed', ' feathers', ',', ' provide', ' insulation', ' against', ' the', ' cold', '.', ' There', ' are', ' around', ' ', '18', ' species', ' of', ' peng', 'uins', ',', ' varying', ' in', ' size', ' and', ' habitat', ' preferences', '.']\n"
     ]
    }
   ],
   "source": [
    "event_handler = EventHandler()\n",
    "\n",
    "with client.beta.threads.runs.stream(\n",
    "    thread_id=thread.id,         # ID of the thread to run.\n",
    "    assistant_id=assistant.id,   # ID of the assistant to use.\n",
    "    event_handler=event_handler,  # Custom event handler for processing events.\n",
    ") as stream:\n",
    "    # Process the stream until it is complete.\n",
    "    stream.until_done()\n",
    "\n",
    "# Retrieve the results from the event handler\n",
    "results = event_handler.results\n",
    "\n",
    "# Process or print the results as needed\n",
    "print(\"\\n\\n\")\n",
    "print(\"Collected results:\", results)\n",
    "\n"
   ]
  },
  {
   "cell_type": "markdown",
   "metadata": {},
   "source": [
    "## Listing Run Steps\n",
    "\n",
    "thread_id\n",
    "(string)\n",
    "\n",
    "Required\n",
    "The ID of the thread the run and run steps belong to.\n",
    "\n",
    "run_id\n",
    "(string)\n",
    "\n",
    "Required\n",
    "The ID of the run the run steps belong to.\n",
    "\n",
    "limit\n",
    "(integer)\n",
    "\n",
    "Optional\n",
    "Defaults to 20\n",
    "A limit on the number of objects to be returned. Limit can range between 1 and 100, and the default is 20.\n",
    "\n",
    "order\n",
    "(string)\n",
    "\n",
    "Optional\n",
    "Defaults to desc\n",
    "Sort order by the created_at timestamp of the objects. asc for ascending order and desc for descending order.\n",
    "\n",
    "after\n",
    "(string)\n",
    "\n",
    "Optional\n",
    "A cursor for use in pagination. after is an object ID that defines your place in the list. For instance, if you make a list request and receive 100 objects, ending with obj_foo, your subsequent call can include after=obj_foo in order to fetch the next page of the list.\n",
    "\n",
    "before\n",
    "(string)\n",
    "\n",
    "Optional\n",
    "A cursor for use in pagination. before is an object ID that defines your place in the list. For instance, if you make a list request and receive 100 objects, ending with obj_foo, your subsequent call can include before=obj_foo in order to fetch the previous page of the list."
   ]
  },
  {
   "cell_type": "code",
   "execution_count": 25,
   "metadata": {},
   "outputs": [
    {
     "name": "stdout",
     "output_type": "stream",
     "text": [
      "SyncCursorPage[RunStep](data=[RunStep(id='step_MM92lE2fUssdWyXIpCKOcpbF', assistant_id='asst_yTqvGZiGrntdsm8J6WDC7xa8', cancelled_at=None, completed_at=1715941562, created_at=1715941559, expired_at=None, failed_at=None, last_error=None, metadata=None, object='thread.run.step', run_id='run_g2Nf7E6dgUQslnsYf7DS8xjQ', status='completed', step_details=MessageCreationStepDetails(message_creation=MessageCreation(message_id='msg_CoWSwKPgXJhB5dyTMiTn8pG6'), type='message_creation'), thread_id='thread_8lV62hFNMb0jlWQS4P2ovDir', type='message_creation', usage=Usage(completion_tokens=112, prompt_tokens=44, total_tokens=156), expires_at=None)], object='list', first_id='step_MM92lE2fUssdWyXIpCKOcpbF', last_id='step_MM92lE2fUssdWyXIpCKOcpbF', has_more=False)\n",
      "\n",
      "\n",
      "step_MM92lE2fUssdWyXIpCKOcpbF\n",
      "completed\n",
      "Usage(completion_tokens=112, prompt_tokens=44, total_tokens=156)\n",
      "MessageCreationStepDetails(message_creation=MessageCreation(message_id='msg_CoWSwKPgXJhB5dyTMiTn8pG6'), type='message_creation')\n",
      "\n",
      "\n"
     ]
    }
   ],
   "source": [
    "\n",
    "# List all run steps for the specified thread and run\n",
    "all_run_steps = client.beta.threads.runs.steps.list(\n",
    "    thread_id=thread.id,          # ID of the thread\n",
    "    run_id=stream.get_final_run().id  # ID of the final run in the stream\n",
    ")\n",
    "\n",
    "# Print all run steps to check their properties\n",
    "print(all_run_steps)\n",
    "print(\"\\n\")\n",
    "\n",
    "# Iterate through each run step and print its details\n",
    "for run_step in all_run_steps:\n",
    "    print(run_step.id)           # Print the run step ID\n",
    "    print(run_step.status)       # Print the run step status\n",
    "    print(run_step.usage)        # Print the run step usage\n",
    "    print(run_step.step_details) # Print the run step details\n",
    "    print(\"\\n\")\n",
    "\n",
    "\n"
   ]
  },
  {
   "cell_type": "markdown",
   "metadata": {},
   "source": [
    "## Retrieving Run Steps\n",
    "\n",
    "thread_id\n",
    "(string)\n",
    "\n",
    "Required\n",
    "The ID of the thread to which the run and run step belongs.\n",
    "\n",
    "run_id\n",
    "(string)\n",
    "\n",
    "Required\n",
    "The ID of the run to which the run step belongs.\n",
    "\n",
    "step_id\n",
    "(string)\n",
    "\n",
    "Required\n",
    "The ID of the run step to retrieve.\n"
   ]
  },
  {
   "cell_type": "markdown",
   "metadata": {},
   "source": [
    "### Simple Retrieve\n",
    "Let's grab a run step using a relatively simple method for a single step"
   ]
  },
  {
   "cell_type": "code",
   "execution_count": 26,
   "metadata": {},
   "outputs": [
    {
     "name": "stdout",
     "output_type": "stream",
     "text": [
      "RunStep(id='step_MM92lE2fUssdWyXIpCKOcpbF', assistant_id='asst_yTqvGZiGrntdsm8J6WDC7xa8', cancelled_at=None, completed_at=1715941562, created_at=1715941559, expired_at=None, failed_at=None, last_error=None, metadata=None, object='thread.run.step', run_id='run_g2Nf7E6dgUQslnsYf7DS8xjQ', status='completed', step_details=MessageCreationStepDetails(message_creation=MessageCreation(message_id='msg_CoWSwKPgXJhB5dyTMiTn8pG6'), type='message_creation'), thread_id='thread_8lV62hFNMb0jlWQS4P2ovDir', type='message_creation', usage=Usage(completion_tokens=112, prompt_tokens=44, total_tokens=156), expires_at=None)\n",
      "\n",
      "\n",
      "step_MM92lE2fUssdWyXIpCKOcpbF\n",
      "completed\n",
      "Usage(completion_tokens=112, prompt_tokens=44, total_tokens=156)\n",
      "MessageCreation(message_id='msg_CoWSwKPgXJhB5dyTMiTn8pG6')\n",
      "\n",
      "\n",
      "A penguin is a flightless bird primarily found in the Southern Hemisphere, particularly in Antarctica. Known for their distinctive black and white plumage, penguins are excellent swimmers, using their flipper-like wings to navigate underwater. They feed mainly on fish, squid, and krill. Penguins are social animals, often forming large colonies for breeding and protection. Their unique adaptations, such as a layer of blubber and tightly packed feathers, provide insulation against the cold. There are around 18 species of penguins, varying in size and habitat preferences.\n"
     ]
    }
   ],
   "source": [
    "# Retrieve the list of steps\n",
    "steps_list = client.beta.threads.runs.steps.list(\n",
    "    thread_id=thread.id, \n",
    "    run_id=stream.get_final_run().id\n",
    ")\n",
    "\n",
    "# Check if steps_list has an attribute or method to get the first step\n",
    "first_step = steps_list[0] if isinstance(steps_list, list) else next(iter(steps_list))\n",
    "\n",
    "# Retrieve the run step\n",
    "run_step = client.beta.threads.runs.steps.retrieve(\n",
    "    thread_id=thread.id,\n",
    "    run_id=stream.get_final_run().id,\n",
    "    step_id=first_step.id\n",
    ")\n",
    "\n",
    "print(run_step)\n",
    "print(\"\\n\")\n",
    "print(run_step.id)\n",
    "print(run_step.status)\n",
    "print(run_step.usage)\n",
    "print(run_step.step_details.message_creation)\n",
    "print(\"\\n\")\n",
    "\n",
    "# Get the message associated with the run step\n",
    "message = client.beta.threads.messages.retrieve(\n",
    "    thread_id=thread.id, \n",
    "    message_id=run_step.step_details.message_creation.message_id\n",
    ")\n",
    "\n",
    "# Print the message content\n",
    "print(message.content[0].text.value)\n",
    "\n"
   ]
  },
  {
   "cell_type": "markdown",
   "metadata": {},
   "source": [
    "### Retrieving All the Run Steps from Every Run\n",
    "Now we will look at a technique for getting all the run steps from every run on a thread. "
   ]
  },
  {
   "cell_type": "code",
   "execution_count": 27,
   "metadata": {},
   "outputs": [
    {
     "name": "stdout",
     "output_type": "stream",
     "text": [
      "\n",
      "====== Begin Run Step ======\n",
      "\n",
      "thread_8lV62hFNMb0jlWQS4P2ovDir\n",
      "\n",
      "\n",
      "run_g2Nf7E6dgUQslnsYf7DS8xjQ\n",
      "\n",
      "\n",
      "step_MM92lE2fUssdWyXIpCKOcpbF\n",
      "completed\n",
      "Usage(completion_tokens=112, prompt_tokens=44, total_tokens=156)\n",
      "MessageCreationStepDetails(message_creation=MessageCreation(message_id='msg_CoWSwKPgXJhB5dyTMiTn8pG6'), type='message_creation')\n",
      "\n",
      "\n",
      "A penguin is a flightless bird primarily found in the Southern Hemisphere, particularly in Antarctica. Known for their distinctive black and white plumage, penguins are excellent swimmers, using their flipper-like wings to navigate underwater. They feed mainly on fish, squid, and krill. Penguins are social animals, often forming large colonies for breeding and protection. Their unique adaptations, such as a layer of blubber and tightly packed feathers, provide insulation against the cold. There are around 18 species of penguins, varying in size and habitat preferences.\n",
      "\n",
      "====== End Run Step ======\n",
      "\n"
     ]
    }
   ],
   "source": [
    "# Show all the run steps for every run and the message content\n",
    "\n",
    "# Get a list of runs\n",
    "runs = client.beta.threads.runs.list(\n",
    "    thread_id=thread.id,\n",
    "    order=\"desc\"  # Order runs in descending order\n",
    ")\n",
    "\n",
    "# Start our runs loop\n",
    "for run in runs:\n",
    "    # List the run steps for the current run\n",
    "    run_steps = client.beta.threads.runs.steps.list(\n",
    "        thread_id=thread.id,\n",
    "        run_id=run.id\n",
    "    )\n",
    "    \n",
    "    # Start our run steps loop\n",
    "    for run_step in run_steps:\n",
    "        print(\"\\n====== Begin Run Step ======\\n\")\n",
    "        print(thread.id)\n",
    "        print(\"\\n\")\n",
    "        print(run.id)\n",
    "        print(\"\\n\")\n",
    "        print(run_step.id)\n",
    "        print(run_step.status)\n",
    "        print(run_step.usage)\n",
    "        print(run_step.step_details)\n",
    "        print(\"\\n\")\n",
    "\n",
    "        # Retrieve the message associated with the run step\n",
    "        message = client.beta.threads.messages.retrieve(\n",
    "            thread_id=thread.id,\n",
    "            message_id=run_step.step_details.message_creation.message_id\n",
    "        )\n",
    "        \n",
    "        # Print the message content\n",
    "        print(message.content[0].text.value)\n",
    "        print(\"\\n====== End Run Step ======\\n\")\n"
   ]
  }
 ],
 "metadata": {
  "kernelspec": {
   "display_name": "NormalProgramming",
   "language": "python",
   "name": "python3"
  },
  "language_info": {
   "codemirror_mode": {
    "name": "ipython",
    "version": 3
   },
   "file_extension": ".py",
   "mimetype": "text/x-python",
   "name": "python",
   "nbconvert_exporter": "python",
   "pygments_lexer": "ipython3",
   "version": "3.11.4"
  }
 },
 "nbformat": 4,
 "nbformat_minor": 2
}
